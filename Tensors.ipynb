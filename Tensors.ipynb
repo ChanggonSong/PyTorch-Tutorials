{
  "nbformat": 4,
  "nbformat_minor": 0,
  "metadata": {
    "colab": {
      "provenance": [],
      "gpuType": "T4",
      "mount_file_id": "1RYJ4Q8Ui9ZQraUMgHa7PZJWU07e5N019",
      "authorship_tag": "ABX9TyOJVRyCYIUE2pwejoOtxXeT",
      "include_colab_link": true
    },
    "kernelspec": {
      "name": "python3",
      "display_name": "Python 3"
    },
    "language_info": {
      "name": "python"
    },
    "accelerator": "GPU"
  },
  "cells": [
    {
      "cell_type": "markdown",
      "metadata": {
        "id": "view-in-github",
        "colab_type": "text"
      },
      "source": [
        "<a href=\"https://colab.research.google.com/github/ChanggonSong/PyTorch-Tutorials/blob/main/Tensors.ipynb\" target=\"_parent\"><img src=\"https://colab.research.google.com/assets/colab-badge.svg\" alt=\"Open In Colab\"/></a>"
      ]
    },
    {
      "cell_type": "code",
      "execution_count": 19,
      "metadata": {
        "id": "z_cBBKpa1sYJ"
      },
      "outputs": [],
      "source": [
        "import torch\n",
        "import numpy as np"
      ]
    },
    {
      "cell_type": "markdown",
      "source": [
        "##텐서(tensor) 초기화"
      ],
      "metadata": {
        "id": "4TyHQwz8ElSs"
      }
    },
    {
      "cell_type": "markdown",
      "source": [
        "- 데이터로부터 직접 Tensors를 생성하기"
      ],
      "metadata": {
        "id": "trwbhO-YEbQA"
      }
    },
    {
      "cell_type": "code",
      "source": [
        "data = [[1, 2],[3, 4]]\n",
        "x_data = torch.tensor(data)"
      ],
      "metadata": {
        "id": "94LXYgc36kHj"
      },
      "execution_count": 20,
      "outputs": []
    },
    {
      "cell_type": "markdown",
      "source": [
        "- NumPy 배열로부터 Tensors 생성하기 (그 반대도 가능) - NumPy 변환(Bridge)"
      ],
      "metadata": {
        "id": "0dVnUBamEYYN"
      }
    },
    {
      "cell_type": "code",
      "source": [
        "np_array = np.array(data)\n",
        "print(np_array)\n",
        "\n",
        "print()\n",
        "\n",
        "x_np = torch.from_numpy(np_array)\n",
        "print(x_np)"
      ],
      "metadata": {
        "colab": {
          "base_uri": "https://localhost:8080/"
        },
        "id": "EuMEYVe7B0um",
        "outputId": "3395ceee-11b0-475d-fd04-5c8b4de6a725"
      },
      "execution_count": 21,
      "outputs": [
        {
          "output_type": "stream",
          "name": "stdout",
          "text": [
            "[[1 2]\n",
            " [3 4]]\n",
            "\n",
            "tensor([[1, 2],\n",
            "        [3, 4]])\n"
          ]
        }
      ]
    },
    {
      "cell_type": "markdown",
      "source": [
        "- 다른 텐서로부터 생성하기"
      ],
      "metadata": {
        "id": "aPbgEgPIEwp1"
      }
    },
    {
      "cell_type": "code",
      "source": [
        "# 명시적으로 재정의(override)하지 않는다면, 인자로 주어진 텐서의 속성(모양(shape), 자료형(datatype))을 유지\n",
        "x_ones = torch.ones_like(x_data) # x_data의 속성을 유지합니다. 1로 채우기\n",
        "print(f\"Ones Tensor: \\n {x_ones} \\n\")\n",
        "\n",
        "x_rand = torch.rand_like(x_data, dtype=torch.float) # x_data의 속성을 덮어씁니다. 실수형, 랜덤으로 채우기\n",
        "print(f\"Random Tensor: \\n {x_rand} \\n\")"
      ],
      "metadata": {
        "colab": {
          "base_uri": "https://localhost:8080/"
        },
        "id": "az5Uy9YwEx0r",
        "outputId": "8a6649f1-0175-4496-9e16-b32cbafa4fe5"
      },
      "execution_count": 22,
      "outputs": [
        {
          "output_type": "stream",
          "name": "stdout",
          "text": [
            "Ones Tensor: \n",
            " tensor([[1, 1],\n",
            "        [1, 1]]) \n",
            "\n",
            "Random Tensor: \n",
            " tensor([[0.7229, 0.4883],\n",
            "        [0.9217, 0.6660]]) \n",
            "\n"
          ]
        }
      ]
    },
    {
      "cell_type": "markdown",
      "source": [
        "- 무작위(random) 또는 상수(constant) 값을 사용하기\n",
        "  - shape 은 텐서의 차원(dimension)을 나타내는 튜플(tuple)로, 아래 함수들에서는 출력 텐서의 차원을 결정합니다."
      ],
      "metadata": {
        "id": "-JfwklRXFp5a"
      }
    },
    {
      "cell_type": "code",
      "source": [
        "shape = (2,3,) # output tensor를 2x3으로.\n",
        "rand_tensor = torch.rand(shape) # 랜덤으로 채우기\n",
        "ones_tensor = torch.ones(shape) # 1로 채우기\n",
        "zeros_tensor = torch.zeros(shape) # 0으로 채우기\n",
        "\n",
        "print(f\"Random Tensor: \\n {rand_tensor} \\n\")\n",
        "print(f\"Ones Tensor: \\n {ones_tensor} \\n\")\n",
        "print(f\"Zeros Tensor: \\n {zeros_tensor}\")"
      ],
      "metadata": {
        "colab": {
          "base_uri": "https://localhost:8080/"
        },
        "id": "apuflnktHpEI",
        "outputId": "9e9ed2c7-4322-47f2-d124-c2eea2bd8142"
      },
      "execution_count": 23,
      "outputs": [
        {
          "output_type": "stream",
          "name": "stdout",
          "text": [
            "Random Tensor: \n",
            " tensor([[0.3044, 0.3233, 0.9318],\n",
            "        [0.4781, 0.1676, 0.0194]]) \n",
            "\n",
            "Ones Tensor: \n",
            " tensor([[1., 1., 1.],\n",
            "        [1., 1., 1.]]) \n",
            "\n",
            "Zeros Tensor: \n",
            " tensor([[0., 0., 0.],\n",
            "        [0., 0., 0.]])\n"
          ]
        }
      ]
    },
    {
      "cell_type": "markdown",
      "source": [
        "##텐서의 속성(Attribute)"
      ],
      "metadata": {
        "id": "d9h0wZBGKQq2"
      }
    },
    {
      "cell_type": "markdown",
      "source": [
        "- 텐서의 속성은 텐서의 모양(shape), 자료형(datatype) 및 어느 장치에 저장되는지를 나타냅니다."
      ],
      "metadata": {
        "id": "3HEjVOJzKUDn"
      }
    },
    {
      "cell_type": "code",
      "source": [
        "tensor = torch.rand(3,4) # output tensor의 shape 사이즈를 결정\n",
        "\n",
        "print(f\"Shape of tensor: {tensor.shape}\") # 텐서의 모양(shape)\n",
        "print(f\"Datatype of tensor: {tensor.dtype}\") # 자료형(datatype)\n",
        "print(f\"Device tensor is stored on: {tensor.device}\") # 어느 장치에 저장되는지"
      ],
      "metadata": {
        "colab": {
          "base_uri": "https://localhost:8080/"
        },
        "id": "OtFkAN9gKTIQ",
        "outputId": "62681620-8b00-4d36-ef6f-01bda18291db"
      },
      "execution_count": 24,
      "outputs": [
        {
          "output_type": "stream",
          "name": "stdout",
          "text": [
            "Shape of tensor: torch.Size([3, 4])\n",
            "Datatype of tensor: torch.float32\n",
            "Device tensor is stored on: cpu\n"
          ]
        }
      ]
    },
    {
      "cell_type": "markdown",
      "source": [
        "## 텐서 연산(Operation)"
      ],
      "metadata": {
        "id": "hiYDVrrdKspX"
      }
    },
    {
      "cell_type": "markdown",
      "source": [
        "- 전치(transposing), 인덱싱(indexing), 슬라이싱(slicing), 수학 계산, 선형 대수, 임의 샘플링(random sampling) 등 100가지 이상의 텐서 연산들: https://pytorch.org/docs/stable/torch.html\n",
        "- 각 연산들은 (일반적으로 CPU보다 빠른) GPU에서 실행할 수 있음"
      ],
      "metadata": {
        "id": "JENxyGrMKwbd"
      }
    },
    {
      "cell_type": "markdown",
      "source": [
        "- 기본적으로 텐서는 CPU에 생성됩니다. .to 메소드를 사용하면 (GPU의 가용성(availability)을 확인한 뒤) GPU로 텐서를 명시적으로 이동할 수 있다. 장치들 간에 큰 텐서들을 복사하는 것은 시간과 메모리 측면에서 비용이 많이든다는 것을 기억하세요!"
      ],
      "metadata": {
        "id": "bmJHynCeK_03"
      }
    },
    {
      "cell_type": "code",
      "source": [
        "# GPU가 존재하면 텐서를 이동합니다\n",
        "if torch.cuda.is_available():\n",
        "    tensor = tensor.to(\"cuda\")"
      ],
      "metadata": {
        "id": "TkFITy7KKpKq"
      },
      "execution_count": null,
      "outputs": []
    },
    {
      "cell_type": "markdown",
      "source": [
        "- NumPy식의 표준 인덱싱과 슬라이싱:"
      ],
      "metadata": {
        "id": "WK4SEARsN3-A"
      }
    },
    {
      "cell_type": "code",
      "source": [
        "tensor = torch.ones(4, 4) # 4x4 output tensor 1로 채우기\n",
        "print(f\"First row: {tensor[0]}\") # 첫번째 row(열) 출력: (0,0), (0,1), (0,2), ...\n",
        "print(f\"First column: {tensor[:, 0]}\") # 첫번째 column(행) 출력: (0,0), (1,0), (2,0), ...\n",
        "print(f\"Last column: {tensor[..., -1]}\") # 마지막 column(행) 출력: (0, 마지막), (1, 마지막), ...\n",
        "tensor[:,1] = 0 # 두번째 행을 모두 0으로. (0,1), (1,1), (2,1), ...\n",
        "print(tensor)"
      ],
      "metadata": {
        "colab": {
          "base_uri": "https://localhost:8080/"
        },
        "id": "Hvl7cWiqLUBD",
        "outputId": "39051c97-ba8f-480a-fa88-78741a8c5c1e"
      },
      "execution_count": 27,
      "outputs": [
        {
          "output_type": "stream",
          "name": "stdout",
          "text": [
            "First row: tensor([1., 1., 1., 1.])\n",
            "First column: tensor([1., 1., 1., 1.])\n",
            "Last column: tensor([1., 1., 1., 1.])\n",
            "tensor([[1., 0., 1., 1.],\n",
            "        [1., 0., 1., 1.],\n",
            "        [1., 0., 1., 1.],\n",
            "        [1., 0., 1., 1.]])\n"
          ]
        }
      ]
    },
    {
      "cell_type": "markdown",
      "source": [
        "- Joining tensors: `torch.cat` 을 사용하여 주어진 차원에 따라 일련의 텐서를 연결할 수 있다. `torch.cat` 과 미묘하게 다른 또 다른 텐서 결합 연산인 **torch.stack** 도 참고하기."
      ],
      "metadata": {
        "id": "dDeoinGANcP5"
      }
    },
    {
      "cell_type": "code",
      "source": [
        "t1 = torch.cat([tensor, tensor, tensor], dim=1)\n",
        "print(t1)"
      ],
      "metadata": {
        "colab": {
          "base_uri": "https://localhost:8080/"
        },
        "id": "JNQ_wwNvNcpw",
        "outputId": "4fcd2def-7001-4087-fb84-a4ca4f730976"
      },
      "execution_count": 28,
      "outputs": [
        {
          "output_type": "stream",
          "name": "stdout",
          "text": [
            "tensor([[1., 0., 1., 1., 1., 0., 1., 1., 1., 0., 1., 1.],\n",
            "        [1., 0., 1., 1., 1., 0., 1., 1., 1., 0., 1., 1.],\n",
            "        [1., 0., 1., 1., 1., 0., 1., 1., 1., 0., 1., 1.],\n",
            "        [1., 0., 1., 1., 1., 0., 1., 1., 1., 0., 1., 1.]])\n"
          ]
        }
      ]
    },
    {
      "cell_type": "markdown",
      "source": [
        "- 산술 연산(Arithmetic operations)"
      ],
      "metadata": {
        "id": "D6s1fDQONoIs"
      }
    },
    {
      "cell_type": "code",
      "source": [
        "# 두 텐서 간의 행렬 곱(matrix multiplication)을 계산합니다. y1, y2, y3은 모두 같은 값을 갖습니다.\n",
        "# ``tensor.T`` 는 텐서의 전치(transpose)를 반환합니다.\n",
        "print(tensor)\n",
        "print(tensor.T)\n",
        "print()\n",
        "\n",
        "y1 = tensor @ tensor.T\n",
        "y2 = tensor.matmul(tensor.T)\n",
        "\n",
        "y3 = torch.rand_like(y1)\n",
        "torch.matmul(tensor, tensor.T, out=y3)\n",
        "\n",
        "\n",
        "# 요소별 곱(element-wise product)을 계산합니다. z1, z2, z3는 모두 같은 값을 갖습니다.\n",
        "z1 = tensor * tensor\n",
        "z2 = tensor.mul(tensor)\n",
        "\n",
        "z3 = torch.rand_like(tensor)\n",
        "torch.mul(tensor, tensor, out=z3)"
      ],
      "metadata": {
        "colab": {
          "base_uri": "https://localhost:8080/"
        },
        "id": "uHCKuB-ONpO2",
        "outputId": "bb767133-d240-4720-e08d-a3762f06c664"
      },
      "execution_count": 44,
      "outputs": [
        {
          "output_type": "stream",
          "name": "stdout",
          "text": [
            "tensor([[1., 0., 1., 1.],\n",
            "        [1., 0., 1., 1.],\n",
            "        [1., 0., 1., 1.],\n",
            "        [1., 0., 1., 1.]])\n",
            "tensor([[1., 1., 1., 1.],\n",
            "        [0., 0., 0., 0.],\n",
            "        [1., 1., 1., 1.],\n",
            "        [1., 1., 1., 1.]])\n",
            "\n"
          ]
        },
        {
          "output_type": "execute_result",
          "data": {
            "text/plain": [
              "tensor([[1., 0., 1., 1.],\n",
              "        [1., 0., 1., 1.],\n",
              "        [1., 0., 1., 1.],\n",
              "        [1., 0., 1., 1.]])"
            ]
          },
          "metadata": {},
          "execution_count": 44
        }
      ]
    },
    {
      "cell_type": "markdown",
      "source": [
        "- Single-element tensors (단일-요소 텐서): 텐서의 모든 값을 하나로 집계(aggregate)하여 요소가 하나인 텐서의 경우, `item()` 을 사용하여 Python 숫자 값으로 변환할 수 있습니다:"
      ],
      "metadata": {
        "id": "jTpCdAdAN8Pm"
      }
    },
    {
      "cell_type": "code",
      "source": [
        "print(tensor)\n",
        "\n",
        "agg = tensor.sum()\n",
        "print(agg)\n",
        "\n",
        "agg_item = agg.item()\n",
        "print(agg_item, type(agg_item))"
      ],
      "metadata": {
        "colab": {
          "base_uri": "https://localhost:8080/"
        },
        "id": "Qk0_vqgaPlBf",
        "outputId": "ae1e75ec-66b5-417f-a052-2921ea817bc9"
      },
      "execution_count": 47,
      "outputs": [
        {
          "output_type": "stream",
          "name": "stdout",
          "text": [
            "tensor([[1., 0., 1., 1.],\n",
            "        [1., 0., 1., 1.],\n",
            "        [1., 0., 1., 1.],\n",
            "        [1., 0., 1., 1.]])\n",
            "tensor(12.)\n",
            "12.0 <class 'float'>\n"
          ]
        }
      ]
    },
    {
      "cell_type": "markdown",
      "source": [
        "- In-place operations(바꿔치기 연산):  연산 결과를 피연산자(operand)에 저장하는 연산을 바꿔치기 연산이라고 부르며, `_` 접미사를 갖습니다. 예를 들어: `x.copy_(y)` 나 `x.t_()` 는 `x` 를 변경합니다."
      ],
      "metadata": {
        "id": "NVSzfX2rQSmi"
      }
    },
    {
      "cell_type": "code",
      "source": [
        "print(f\"{tensor} \\n\")\n",
        "tensor.add_(5)\n",
        "print(tensor)"
      ],
      "metadata": {
        "colab": {
          "base_uri": "https://localhost:8080/"
        },
        "id": "eX-nH5zkQSKR",
        "outputId": "8af5ab2b-6a86-459c-ca09-c10fe05228c3"
      },
      "execution_count": 48,
      "outputs": [
        {
          "output_type": "stream",
          "name": "stdout",
          "text": [
            "tensor([[1., 0., 1., 1.],\n",
            "        [1., 0., 1., 1.],\n",
            "        [1., 0., 1., 1.],\n",
            "        [1., 0., 1., 1.]]) \n",
            "\n",
            "tensor([[6., 5., 6., 6.],\n",
            "        [6., 5., 6., 6.],\n",
            "        [6., 5., 6., 6.],\n",
            "        [6., 5., 6., 6.]])\n"
          ]
        }
      ]
    },
    {
      "cell_type": "markdown",
      "source": [
        "##NumPy 변환(Bridge)"
      ],
      "metadata": {
        "id": "tBlEmK8sQ1Y7"
      }
    },
    {
      "cell_type": "markdown",
      "source": [
        "####텐서를 NumPy 배열로 변환하기"
      ],
      "metadata": {
        "id": "jl10-Ch2Q7BB"
      }
    },
    {
      "cell_type": "code",
      "source": [
        "t = torch.ones(5) # 텐서\n",
        "print(f\"t: {t}\")\n",
        "\n",
        "n = t.numpy() # NumPy 배열로 변환\n",
        "print(f\"n: {n}\")"
      ],
      "metadata": {
        "colab": {
          "base_uri": "https://localhost:8080/"
        },
        "id": "YfOOBK9MQ6b1",
        "outputId": "7f1ebc34-30f0-4592-f652-f2f2969a8b4f"
      },
      "execution_count": 49,
      "outputs": [
        {
          "output_type": "stream",
          "name": "stdout",
          "text": [
            "t: tensor([1., 1., 1., 1., 1.])\n",
            "n: [1. 1. 1. 1. 1.]\n"
          ]
        }
      ]
    },
    {
      "cell_type": "markdown",
      "source": [
        "- 텐서의 변경 사항이 NumPy 배열에 반영됩니다."
      ],
      "metadata": {
        "id": "ELe3T7_cRCge"
      }
    },
    {
      "cell_type": "code",
      "source": [
        "t.add_(1) # 1을 더함\n",
        "print(f\"t: {t}\")\n",
        "\n",
        "print(f\"n: {n}\")"
      ],
      "metadata": {
        "colab": {
          "base_uri": "https://localhost:8080/"
        },
        "id": "1Yqaw7pPRD6b",
        "outputId": "43dd9c1f-6fce-4db4-bf89-01ccd4487f62"
      },
      "execution_count": 51,
      "outputs": [
        {
          "output_type": "stream",
          "name": "stdout",
          "text": [
            "t: tensor([3., 3., 3., 3., 3.])\n",
            "n: [3. 3. 3. 3. 3.]\n"
          ]
        }
      ]
    },
    {
      "cell_type": "markdown",
      "source": [
        "####NumPy 배열을 텐서로 변환하기"
      ],
      "metadata": {
        "id": "X1t-Be1oRL6U"
      }
    },
    {
      "cell_type": "code",
      "source": [
        "n = np.ones(5) # NumPy 배열\n",
        "t = torch.from_numpy(n) # 텐서로 변환"
      ],
      "metadata": {
        "id": "Q_m0-hVzROqc"
      },
      "execution_count": 54,
      "outputs": []
    },
    {
      "cell_type": "markdown",
      "source": [
        "- NumPy 배열의 변경 사항이 텐서에 반영됩니다."
      ],
      "metadata": {
        "id": "S1CsSrt_RQgv"
      }
    },
    {
      "cell_type": "code",
      "source": [
        "np.add(n, 1, out=n)\n",
        "print(f\"t: {t}\")\n",
        "\n",
        "print(f\"n: {n}\")"
      ],
      "metadata": {
        "colab": {
          "base_uri": "https://localhost:8080/"
        },
        "id": "c5jF8dYmRRAx",
        "outputId": "f4b98bfa-7c7a-45e7-e9f1-787b4be07a63"
      },
      "execution_count": 55,
      "outputs": [
        {
          "output_type": "stream",
          "name": "stdout",
          "text": [
            "t: tensor([2., 2., 2., 2., 2.], dtype=torch.float64)\n",
            "n: [2. 2. 2. 2. 2.]\n"
          ]
        }
      ]
    }
  ]
}